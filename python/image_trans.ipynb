{
 "cells": [
  {
   "cell_type": "code",
   "execution_count": 2,
   "metadata": {},
   "outputs": [
    {
     "ename": "OpenSlideUnsupportedFormatError",
     "evalue": "Unsupported or missing image file",
     "output_type": "error",
     "traceback": [
      "\u001b[0;31m---------------------------------------------------------------------------\u001b[0m",
      "\u001b[0;31mOpenSlideUnsupportedFormatError\u001b[0m           Traceback (most recent call last)",
      "Cell \u001b[0;32mIn[2], line 21\u001b[0m\n\u001b[1;32m     19\u001b[0m czi_file_path \u001b[38;5;241m=\u001b[39m \u001b[38;5;124m'\u001b[39m\u001b[38;5;124m/Users/samuelheczko/Documents/School/phd/mini-projects/McColl_block3/images/silde_scans_NRROS/9_792_s4.czi\u001b[39m\u001b[38;5;124m'\u001b[39m\n\u001b[1;32m     20\u001b[0m output_tiff_path \u001b[38;5;241m=\u001b[39m \u001b[38;5;124m'\u001b[39m\u001b[38;5;124m/Users/samuelheczko/Documents/School/phd/mini-projects/McColl_block3/images/test/opneslide.tiff\u001b[39m\u001b[38;5;124m'\u001b[39m\n\u001b[0;32m---> 21\u001b[0m \u001b[43mczi_to_pyramidal_tiff\u001b[49m\u001b[43m(\u001b[49m\u001b[43mczi_file_path\u001b[49m\u001b[43m,\u001b[49m\u001b[43m \u001b[49m\u001b[43moutput_tiff_path\u001b[49m\u001b[43m)\u001b[49m\n",
      "Cell \u001b[0;32mIn[2], line 7\u001b[0m, in \u001b[0;36mczi_to_pyramidal_tiff\u001b[0;34m(czi_path, output_path)\u001b[0m\n\u001b[1;32m      5\u001b[0m \u001b[38;5;28;01mdef\u001b[39;00m \u001b[38;5;21mczi_to_pyramidal_tiff\u001b[39m(czi_path, output_path):\n\u001b[1;32m      6\u001b[0m     \u001b[38;5;66;03m# Step 1: Convert CZI to TIFF\u001b[39;00m\n\u001b[0;32m----> 7\u001b[0m     slide \u001b[38;5;241m=\u001b[39m \u001b[43mopenslide\u001b[49m\u001b[38;5;241;43m.\u001b[39;49m\u001b[43mOpenSlide\u001b[49m\u001b[43m(\u001b[49m\u001b[43mczi_path\u001b[49m\u001b[43m)\u001b[49m\n\u001b[1;32m      8\u001b[0m     tiff_path \u001b[38;5;241m=\u001b[39m output_path\u001b[38;5;241m.\u001b[39mreplace(\u001b[38;5;124m'\u001b[39m\u001b[38;5;124m.tiff\u001b[39m\u001b[38;5;124m'\u001b[39m, \u001b[38;5;124m'\u001b[39m\u001b[38;5;124m_temp.tiff\u001b[39m\u001b[38;5;124m'\u001b[39m)\n\u001b[1;32m      9\u001b[0m     slide_image \u001b[38;5;241m=\u001b[39m slide\u001b[38;5;241m.\u001b[39mget_thumbnail(slide\u001b[38;5;241m.\u001b[39mdimensions)\n",
      "File \u001b[0;32m~/anaconda3/envs/openslide/lib/python3.10/site-packages/openslide/__init__.py:179\u001b[0m, in \u001b[0;36mOpenSlide.__init__\u001b[0;34m(self, filename)\u001b[0m\n\u001b[1;32m    177\u001b[0m AbstractSlide\u001b[38;5;241m.\u001b[39m\u001b[38;5;21m__init__\u001b[39m(\u001b[38;5;28mself\u001b[39m)\n\u001b[1;32m    178\u001b[0m \u001b[38;5;28mself\u001b[39m\u001b[38;5;241m.\u001b[39m_filename \u001b[38;5;241m=\u001b[39m filename\n\u001b[0;32m--> 179\u001b[0m \u001b[38;5;28mself\u001b[39m\u001b[38;5;241m.\u001b[39m_osr \u001b[38;5;241m=\u001b[39m \u001b[43mlowlevel\u001b[49m\u001b[38;5;241;43m.\u001b[39;49m\u001b[43mopen\u001b[49m\u001b[43m(\u001b[49m\u001b[38;5;28;43mstr\u001b[39;49m\u001b[43m(\u001b[49m\u001b[43mfilename\u001b[49m\u001b[43m)\u001b[49m\u001b[43m)\u001b[49m\n\u001b[1;32m    180\u001b[0m \u001b[38;5;28;01mif\u001b[39;00m lowlevel\u001b[38;5;241m.\u001b[39mread_icc_profile\u001b[38;5;241m.\u001b[39mavailable:\n\u001b[1;32m    181\u001b[0m     \u001b[38;5;28mself\u001b[39m\u001b[38;5;241m.\u001b[39m_profile \u001b[38;5;241m=\u001b[39m lowlevel\u001b[38;5;241m.\u001b[39mread_icc_profile(\u001b[38;5;28mself\u001b[39m\u001b[38;5;241m.\u001b[39m_osr)\n",
      "File \u001b[0;32m~/anaconda3/envs/openslide/lib/python3.10/site-packages/openslide/lowlevel.py:203\u001b[0m, in \u001b[0;36m_check_open\u001b[0;34m(result, _func, _args)\u001b[0m\n\u001b[1;32m    201\u001b[0m \u001b[38;5;28;01mdef\u001b[39;00m \u001b[38;5;21m_check_open\u001b[39m(result, _func, _args):\n\u001b[1;32m    202\u001b[0m     \u001b[38;5;28;01mif\u001b[39;00m result \u001b[38;5;129;01mis\u001b[39;00m \u001b[38;5;28;01mNone\u001b[39;00m:\n\u001b[0;32m--> 203\u001b[0m         \u001b[38;5;28;01mraise\u001b[39;00m OpenSlideUnsupportedFormatError(\u001b[38;5;124m\"\u001b[39m\u001b[38;5;124mUnsupported or missing image file\u001b[39m\u001b[38;5;124m\"\u001b[39m)\n\u001b[1;32m    204\u001b[0m     slide \u001b[38;5;241m=\u001b[39m _OpenSlide(c_void_p(result))\n\u001b[1;32m    205\u001b[0m     err \u001b[38;5;241m=\u001b[39m get_error(slide)\n",
      "\u001b[0;31mOpenSlideUnsupportedFormatError\u001b[0m: Unsupported or missing image file"
     ]
    }
   ],
   "source": [
    "import openslide\n",
    "from PIL import Image\n",
    "import subprocess\n",
    "\n",
    "def czi_to_pyramidal_tiff(czi_path, output_path):\n",
    "    # Step 1: Convert CZI to TIFF\n",
    "    slide = openslide.OpenSlide(czi_path)\n",
    "    tiff_path = output_path.replace('.tiff', '_temp.tiff')\n",
    "    slide_image = slide.get_thumbnail(slide.dimensions)\n",
    "    slide_image.save(tiff_path, 'TIFF')\n",
    "\n",
    "    # Step 2: Convert TIFF to Pyramidal TIFF using ImageMagick\n",
    "    pyramidal_tiff_path = output_path\n",
    "    subprocess.run(['convert', tiff_path, '-define', 'tiff:tile-geometry=256x256', '-compress', 'jpeg', f'ptif:{pyramidal_tiff_path}'])\n",
    "\n",
    "    print(f\"Converted {czi_path} to {pyramidal_tiff_path}\")\n",
    "\n",
    "# Example usage\n",
    "\n",
    "\n",
    "czi_file_path = '/Users/samuelheczko/Documents/School/phd/mini-projects/McColl_block3/images/silde_scans_NRROS/9_792_s4.czi'\n",
    "output_tiff_path = '/Users/samuelheczko/Documents/School/phd/mini-projects/McColl_block3/images/test/opneslide.tiff'\n",
    "czi_to_pyramidal_tiff(czi_file_path, output_tiff_path)"
   ]
  },
  {
   "cell_type": "code",
   "execution_count": null,
   "metadata": {},
   "outputs": [],
   "source": []
  }
 ],
 "metadata": {
  "kernelspec": {
   "display_name": "cziToTiff",
   "language": "python",
   "name": "python3"
  },
  "language_info": {
   "codemirror_mode": {
    "name": "ipython",
    "version": 3
   },
   "file_extension": ".py",
   "mimetype": "text/x-python",
   "name": "python",
   "nbconvert_exporter": "python",
   "pygments_lexer": "ipython3",
   "version": "3.10.14"
  }
 },
 "nbformat": 4,
 "nbformat_minor": 2
}
